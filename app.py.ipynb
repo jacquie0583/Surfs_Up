{
 "cells": [
  {
   "cell_type": "code",
   "execution_count": 1,
   "id": "6fa5f784",
   "metadata": {},
   "outputs": [],
   "source": [
    "from flask import Flask\n",
    "app = Flask(__name__)\n",
    "import datetime as dt\n",
    "import numpy as np\n",
    "import pandas as pd\n",
    "import sqlalchemy\n",
    "from sqlalchemy.ext.automap import automap_base\n",
    "from sqlalchemy.orm import Session\n",
    "from sqlalchemy import create_engine, func\n",
    "from flask import Flask, jsonify"
   ]
  },
  {
   "cell_type": "code",
   "execution_count": 2,
   "id": "31fb6a55",
   "metadata": {},
   "outputs": [],
   "source": [
    "# Access the SQLite database\n",
    "engine = create_engine(\"sqlite:///hawaii.sqlite\")\n",
    "\n",
    "# code to reflect the database\n",
    "Base = automap_base()\n",
    "\n",
    "# code to reflect to reflect the tables database\n",
    "Base.prepare(engine, reflect=True)\n",
    "\n",
    "# create a variable for each of the classes so that we can reference them\n",
    "Measurement = Base.classes.measurement\n",
    "Station = Base.classes.station\n",
    "\n",
    "# create a session link from Python to our database\n",
    "session = Session(engine)\n"
   ]
  },
  {
   "cell_type": "code",
   "execution_count": 3,
   "id": "c34b99fa",
   "metadata": {},
   "outputs": [],
   "source": [
    "# create a Flask application called \"app.\"\n",
    "app = Flask(__name__)\n",
    "@app.route(\"/\")\n",
    "\n",
    "def welcome():\n",
    "    return(\n",
    "    '''\n",
    "    Welcome to the Climate Analysis API!\n",
    "    Available Routes:\n",
    "    /api/v1.0/precipitation\n",
    "    /api/v1.0/stations\n",
    "    /api/v1.0/tobs\n",
    "    /api/v1.0/temp/start/end\n",
    "    ''')"
   ]
  },
  {
   "cell_type": "code",
   "execution_count": 4,
   "id": "a51ea952",
   "metadata": {},
   "outputs": [],
   "source": [
    "# Precipitation Route\n",
    "app = Flask(__name__)\n",
    "\n",
    "#defining the route and route name. \n",
    "@app.route(\"/api/v1.0/precipitation\")\n",
    "\n",
    "#create a new function called precipitation()\n",
    "def precipitation():\n",
    "   prev_year = dt.date(2017, 8, 23) - dt.timedelta(days=365)\n",
    "   precipitation = session.query(Measurement.date, Measurement.prcp).\\\n",
    "      filter(Measurement.date >= prev_year).all()\n",
    "   precip = {date: prcp for date, prcp in precipitation}\n",
    "   return"
   ]
  },
  {
   "cell_type": "code",
   "execution_count": 5,
   "id": "160bb224",
   "metadata": {},
   "outputs": [],
   "source": [
    "# Stations Route\n",
    "app = Flask(__name__)\n",
    "\n",
    " #defining the route and route name. \n",
    "@app.route(\"/api/v1.0/stations\")\n",
    "\n",
    "#create a new function called stations()\n",
    "def stations():\n",
    "    \n",
    "    # a query that will allow us to get all of the stations in our database\n",
    "    results = session.query(Station.station).all()\n",
    "    \n",
    "    # start by unraveling our results into a one-dimensional array\n",
    "    # with results as our parameter, convert the results to a list\n",
    "    stations = list(np.ravel(results))\n",
    "    \n",
    "    # to return our list as JSON, we need to add stations=stations, http://localhost:5000/\n",
    "    return jsonify(stations=stations)"
   ]
  },
  {
   "cell_type": "code",
   "execution_count": null,
   "id": "d7869ac0",
   "metadata": {},
   "outputs": [],
   "source": [
    "# Monthly Temperature Route\n",
    "# defining the route with this code\n",
    "@app.route(\"/api/v1.0/tobs\")\n",
    "\n",
    "# create a function called temp_monthly()\n",
    "def temp_monthly():\n",
    "    # calculate the date one year ago from the last date in the database\n",
    "    prev_year = dt.date(2017, 8, 23) - dt.timedelta(days=365)\n",
    "    \n",
    "    # query the primary station for all the temperature observations from the previous year\n",
    "    results = session.query(Measurement.tobs).\\\n",
    "        filter(Measurement.station == 'USC00519281').\\\n",
    "        filter(Measurement.date >= prev_year).all()\n",
    "    \n",
    "    # unravel the results into a one-dimensional array,convert that array into a list then jsonify the list and return our results\n",
    "    temps = list(np.ravel(results))\n",
    "    return jsonify(temps=temps)"
   ]
  },
  {
   "cell_type": "code",
   "execution_count": null,
   "id": "466f3e80",
   "metadata": {},
   "outputs": [],
   "source": [
    "# Statistics Route - to see the minimum, maximum, and average temperatures\n",
    "# defining the route with this code, a starting and ending date\n",
    "@app.route(\"/api/v1.0/temp/<start>\")\n",
    "@app.route(\"/api/v1.0/temp/<start>/<end>\")\n",
    "\n",
    "# create a function called stats()\n",
    "def stats(start=None, end=None):\n",
    "    # create a query to select the minimum, average, and maximum temp, a list called sel,asterisk is used to indicate there will be multiple results for our query: minimum, average, and maximum temperatures\n",
    "    sel = [func.min(Measurement.tobs), func.avg(Measurement.tobs), func.max(Measurement.tobs)]\n",
    "\n",
    "    # determine the starting and ending date,by if-not,unravel the results into a one-dimensional array,convert to a list, jsonify our results, return them.\n",
    "    if not end:\n",
    "        results = session.query(*sel).\\\n",
    "            filter(Measurement.date >= start).all()\n",
    "        temps = list(np.ravel(results))\n",
    "        return jsonify(temps=temps)\n",
    "    \n",
    "    # use sel list to calculate the min,max,avg,and dates\n",
    "    results = session.query(*sel).\\\n",
    "        filter(Measurement.date >= start).\\\n",
    "        filter(Measurement.date <= end).all()\n",
    "    temps = list(np.ravel(results))\n",
    "    return jsonify(temps)"
   ]
  },
  {
   "cell_type": "code",
   "execution_count": null,
   "id": "5f26cc61",
   "metadata": {},
   "outputs": [],
   "source": []
  },
  {
   "cell_type": "code",
   "execution_count": null,
   "id": "8124e7c7",
   "metadata": {},
   "outputs": [],
   "source": []
  }
 ],
 "metadata": {
  "kernelspec": {
   "display_name": "Python 3",
   "language": "python",
   "name": "python3"
  },
  "language_info": {
   "codemirror_mode": {
    "name": "ipython",
    "version": 3
   },
   "file_extension": ".py",
   "mimetype": "text/x-python",
   "name": "python",
   "nbconvert_exporter": "python",
   "pygments_lexer": "ipython3",
   "version": "3.8.8"
  }
 },
 "nbformat": 4,
 "nbformat_minor": 5
}
